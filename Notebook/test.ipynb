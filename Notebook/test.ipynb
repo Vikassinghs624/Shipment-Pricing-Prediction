{
 "cells": [
  {
   "cell_type": "code",
   "execution_count": 5,
   "metadata": {},
   "outputs": [
    {
     "name": "stdout",
     "output_type": "stream",
     "text": [
      "division by zero\n",
      "[<class 'ZeroDivisionError'>, ZeroDivisionError('division by zero'), <traceback object at 0x00000255F3CE4780>]\n"
     ]
    }
   ],
   "source": [
    "import sys\n",
    "def div(x,y):\n",
    "    return x/y\n",
    "\n",
    "try:\n",
    "    div(5,0)\n",
    "\n",
    "except Exception as e:\n",
    "    print(e)\n",
    "    l=[]\n",
    "    for i in sys.exc_info():\n",
    "        l.append(i)\n",
    "    print(l)"
   ]
  },
  {
   "cell_type": "code",
   "execution_count": 6,
   "metadata": {},
   "outputs": [],
   "source": [
    "import os \n",
    "import sys\n",
    "\n",
    "\n",
    "class ShipmentException(Exception):\n",
    "    def __init__(self, error_message:Exception,error_detail: sys) :\n",
    "        super().__init__(error_message)\n",
    "        self.error_message=ShipmentException.get_detailed_error_message(error_message=error_message,error_detail=error_detail)\n",
    "\n",
    "\n",
    "    \n",
    "    @staticmethod\n",
    "    def get_detailed_error_message(error_message:Exception,error_detail:sys)->str:\n",
    "        '''\n",
    "        error_message: Exception object\n",
    "        error_details: Object of sys module\n",
    "        '''\n",
    "\n",
    "        _,_,exec_tb=error_detail.exc_info()\n",
    "        exception_block_line_number=exec_tb.tb_frame.f_lineno\n",
    "        try_block_line_number=exec_tb.tb_lineno\n",
    "        file_name=exec_tb.tb_frame.f_code.co_filename\n",
    "        error_message=f\"\"\" Error Occured in Script:[{file_name}] at try block line number: [{try_block_line_number}] \n",
    "        and exception block line number\n",
    "        [{exception_block_line_number}] and error message is [{error_message}]\"\"\"\n",
    "        return error_message\n",
    "    \n",
    "    # print the object \n",
    "    def __str__(self):\n",
    "        return self.error_message\n",
    "    \n",
    "    def __repr__(self)-> str:\n",
    "        return ShipmentException.__name__.str()"
   ]
  },
  {
   "cell_type": "code",
   "execution_count": 9,
   "metadata": {},
   "outputs": [],
   "source": [
    "try:\n",
    "    d=10/0\n",
    "except Exception as e:\n",
    "    shipment=ShipmentException(e,sys)"
   ]
  },
  {
   "cell_type": "code",
   "execution_count": 11,
   "metadata": {},
   "outputs": [
    {
     "name": "stdout",
     "output_type": "stream",
     "text": [
      "<class '__main__.ShipmentException'>\n"
     ]
    }
   ],
   "source": [
    "print(type(shipment))"
   ]
  }
 ],
 "metadata": {
  "kernelspec": {
   "display_name": "Python 3",
   "language": "python",
   "name": "python3"
  },
  "language_info": {
   "codemirror_mode": {
    "name": "ipython",
    "version": 3
   },
   "file_extension": ".py",
   "mimetype": "text/x-python",
   "name": "python",
   "nbconvert_exporter": "python",
   "pygments_lexer": "ipython3",
   "version": "3.8.0"
  }
 },
 "nbformat": 4,
 "nbformat_minor": 2
}
